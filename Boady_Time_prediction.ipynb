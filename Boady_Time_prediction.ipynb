{
 "cells": [
  {
   "cell_type": "markdown",
   "metadata": {},
   "source": [
    "# Body time prediction"
   ]
  },
  {
   "cell_type": "code",
   "execution_count": null,
   "metadata": {},
   "outputs": [],
   "source": [
    "import numpy as np\n",
    "import pandas as pd\n",
    "import math\n",
    "from sklearn.model_selection import GridSearchCV\n",
    "from sklearn.linear_model import ElasticNet\n",
    "from sklearn.linear_model import LinearRegression\n",
    "from sklearn.metrics import mean_squared_error\n",
    "from sklearn.model_selection import train_test_split"
   ]
  },
  {
   "cell_type": "code",
   "execution_count": 2,
   "metadata": {
    "scrolled": true
   },
   "outputs": [],
   "source": [
    "gene_expression=pd.read_csv('Moller_Normalized_gene_expression.csv')\n",
    "x=gene_expression.drop('Samples', axis=1)"
   ]
  },
  {
   "cell_type": "code",
   "execution_count": 3,
   "metadata": {
    "scrolled": true
   },
   "outputs": [],
   "source": [
    "DLMO25=pd.read_csv('Moller_DLMO25_data.csv')\n",
    "DLMO25_angle=((DLMO25.drop('sample', axis=1))%24)*2*np.pi/24\n",
    "y1=np.sin(DLMO25_angle['hrs_after_DLMO25'])\n",
    "y2=np.cos(DLMO25_angle['hrs_after_DLMO25'])\n",
    "y=pd.concat([y1, y2], axis=1, keys=['y1','y2'])\n"
   ]
  },
  {
   "cell_type": "code",
   "execution_count": 4,
   "metadata": {},
   "outputs": [
    {
     "data": {
      "text/plain": [
       "ElasticNet(alpha=0.1)"
      ]
     },
     "execution_count": 4,
     "metadata": {},
     "output_type": "execute_result"
    }
   ],
   "source": [
    "x_train, x_test, y_train, y_test =train_test_split(x,y,random_state=999)\n",
    "enet=ElasticNet(alpha=0.1, l1_ratio=0.5)\n",
    "enet.fit(x_train,y_train)"
   ]
  },
  {
   "cell_type": "code",
   "execution_count": 37,
   "metadata": {},
   "outputs": [],
   "source": [
    "ceff_mat=pd.DataFrame(enet.coef_, columns=x.columns)\n",
    "df=ceff_mat"
   ]
  },
  {
   "cell_type": "code",
   "execution_count": 72,
   "metadata": {},
   "outputs": [],
   "source": [
    "y_pred=enet.predict(x_test)\n",
    "Pred_Time=(np.arctan2(y_pred[:,0], y_pred[:,1])%(2*np.pi))*(24/(2*np.pi)) # convert back angle to time\n",
    "y_test_Time=(np.arctan2(y_test['y1'], y_test['y2'])%(2*np.pi))*(24/(2*np.pi))\n",
    "\n",
    "rms=np.sqrt(mean_squared_error(y_test_Time,Pred_Time))"
   ]
  },
  {
   "cell_type": "code",
   "execution_count": 68,
   "metadata": {},
   "outputs": [
    {
     "data": {
      "text/plain": [
       "<matplotlib.collections.PathCollection at 0x1d441dffb50>"
      ]
     },
     "execution_count": 68,
     "metadata": {},
     "output_type": "execute_result"
    },
    {
     "data": {
      "image/png": "[encoded data removed]",
      "text/plain": [
       "<Figure size 432x288 with 1 Axes>"
      ]
     },
     "metadata": {
      "needs_background": "light"
     },
     "output_type": "display_data"
    }
   ],
   "source": [
    "import matplotlib.pyplot as plt\n",
    "plt.scatter(y_test_Time, Pred_Time)"
   ]
  }
 ],
 "metadata": {
  "kernelspec": {
   "display_name": "Python 3",
   "language": "python",
   "name": "python3"
  },
  "language_info": {
   "codemirror_mode": {
    "name": "ipython",
    "version": 3
   },
   "file_extension": ".py",
   "mimetype": "text/x-python",
   "name": "python",
   "nbconvert_exporter": "python",
   "pygments_lexer": "ipython3",
   "version": "3.8.3"
  }
 },
 "nbformat": 4,
 "nbformat_minor": 4
}
